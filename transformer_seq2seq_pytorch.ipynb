{
  "nbformat": 4,
  "nbformat_minor": 0,
  "metadata": {
    "colab": {
      "name": "transformer_seq2seq_pytorch.ipynb",
      "provenance": [],
      "collapsed_sections": [],
      "authorship_tag": "ABX9TyP6kqhZfHFO8Vu0O8++lvjM",
      "include_colab_link": true
    },
    "kernelspec": {
      "name": "python3",
      "display_name": "Python 3"
    },
    "accelerator": "GPU"
  },
  "cells": [
    {
      "cell_type": "markdown",
      "metadata": {
        "id": "view-in-github",
        "colab_type": "text"
      },
      "source": [
        "<a href=\"https://colab.research.google.com/github/bcjuang/transformers/blob/main/transformer_seq2seq_pytorch.ipynb\" target=\"_parent\"><img src=\"https://colab.research.google.com/assets/colab-badge.svg\" alt=\"Open In Colab\"/></a>"
      ]
    },
    {
      "cell_type": "markdown",
      "metadata": {
        "id": "ZwAe5NkHxZVj"
      },
      "source": [
        "Install the compatible torch verison for CUDA support"
      ]
    },
    {
      "cell_type": "code",
      "metadata": {
        "id": "o6s-bfHQxXj_"
      },
      "source": [
        "# !pip install torch==1.6.0+cu101 torchvision==0.7.0+cu101 torchtext==0.7 -f https://download.pytorch.org/whl/torch_stable.html"
      ],
      "execution_count": 14,
      "outputs": []
    },
    {
      "cell_type": "code",
      "metadata": {
        "colab": {
          "base_uri": "https://localhost:8080/",
          "height": 0
        },
        "id": "dL8cLf79YVqL",
        "outputId": "8451dae0-2b01-4fb4-f22e-40ef2e737a65"
      },
      "source": [
        "from google.colab import drive\n",
        "drive.mount('/content/gdrive')"
      ],
      "execution_count": 2,
      "outputs": [
        {
          "output_type": "stream",
          "text": [
            "Mounted at /content/gdrive\n"
          ],
          "name": "stdout"
        }
      ]
    },
    {
      "cell_type": "code",
      "metadata": {
        "id": "ChJcmWWVZFla"
      },
      "source": [
        "import numpy as np\n",
        "import pandas as pd\n",
        "import matplotlib.pyplot as plt\n",
        "import seaborn\n",
        "import torch\n",
        "import torchtext"
      ],
      "execution_count": 3,
      "outputs": []
    },
    {
      "cell_type": "markdown",
      "metadata": {
        "id": "soqUCAqPGCs1"
      },
      "source": [
        "### PyTorch: Sequence-to-sequence modeling. \n",
        "https://pytorch.org/tutorials/beginner/transformer_tutorial.html"
      ]
    },
    {
      "cell_type": "code",
      "metadata": {
        "id": "qaHUbUDzzZbb"
      },
      "source": [
        "import io\n",
        "import math\n",
        "import torch\n",
        "from torchtext.utils import download_from_url, extract_archive\n",
        "from torchtext.data.utils import get_tokenizer\n",
        "from torchtext.vocab import build_vocab_from_iterator"
      ],
      "execution_count": 4,
      "outputs": []
    },
    {
      "cell_type": "code",
      "metadata": {
        "colab": {
          "base_uri": "https://localhost:8080/",
          "height": 0
        },
        "id": "7jTgbnlCZm4Y",
        "outputId": "4106b055-e25a-4dfa-e11c-dc4f377d883a"
      },
      "source": [
        "url = 'https://s3.amazonaws.com/research.metamind.io/wikitext/wikitext-2-v1.zip'\n",
        "test_filepath, valid_filepath, train_filepath = extract_archive(download_from_url(url))\n",
        "tokenizer = get_tokenizer('basic_english')\n",
        "vocab = build_vocab_from_iterator(map(tokenizer,\n",
        "                                      iter(io.open(train_filepath,\n",
        "                                                   encoding=\"utf8\"))))"
      ],
      "execution_count": 5,
      "outputs": [
        {
          "output_type": "stream",
          "text": [
            "wikitext-2-v1.zip: 100%|██████████| 4.48M/4.48M [00:00<00:00, 56.4MB/s]\n",
            "36718lines [00:01, 28169.33lines/s]\n"
          ],
          "name": "stderr"
        }
      ]
    },
    {
      "cell_type": "code",
      "metadata": {
        "colab": {
          "base_uri": "https://localhost:8080/",
          "height": 0
        },
        "id": "3pf-F38wcRQf",
        "outputId": "8698d422-a678-4eca-9294-08dcbb97d033"
      },
      "source": [
        "device = torch.device('cuda' if torch.cuda.is_available() else 'cpu')\n",
        "device"
      ],
      "execution_count": 6,
      "outputs": [
        {
          "output_type": "execute_result",
          "data": {
            "text/plain": [
              "device(type='cuda')"
            ]
          },
          "metadata": {
            "tags": []
          },
          "execution_count": 6
        }
      ]
    },
    {
      "cell_type": "code",
      "metadata": {
        "id": "bnHK0Is7eV97"
      },
      "source": [
        "import torch.nn as nn\n",
        "import torch.nn.functional as F"
      ],
      "execution_count": 7,
      "outputs": []
    },
    {
      "cell_type": "code",
      "metadata": {
        "id": "QUFMYeegeruN"
      },
      "source": [
        "class TransformerModel(nn.Module):\n",
        "\n",
        "    def __init__(self, ntoken, ninp, nhead, nhid, nlayers, dropout=0.5):\n",
        "        super(TransformerModel, self).__init__()\n",
        "        from torch.nn import TransformerEncoder, TransformerEncoderLayer\n",
        "        self.model_type = 'Transformer'\n",
        "        self.pos_encoder = PositionalEncoding(ninp, dropout)\n",
        "        encoder_layers = TransformerEncoderLayer(ninp, nhead, nhid, dropout)\n",
        "        self.transformer_encoder = TransformerEncoder(encoder_layers, nlayers)\n",
        "        self.encoder = nn.Embedding(ntoken, ninp)\n",
        "        self.ninp = ninp\n",
        "        self.decoder = nn.Linear(ninp, ntoken)\n",
        "\n",
        "        self.init_weights()\n",
        "\n",
        "    def generate_square_subsequent_mask(self, sz):\n",
        "        mask = (torch.triu(torch.ones(sz, sz)) == 1).transpose(0, 1)\n",
        "        mask = mask.float().masked_fill(mask == 0, float('-inf')).masked_fill(mask == 1, float(0.0))\n",
        "        return mask\n",
        "\n",
        "    def init_weights(self):\n",
        "        initrange = 0.1\n",
        "        self.encoder.weight.data.uniform_(-initrange, initrange)\n",
        "        self.decoder.bias.data.zero_()\n",
        "        self.decoder.weight.data.uniform_(-initrange, initrange)\n",
        "\n",
        "    def forward(self, src, src_mask):\n",
        "        src = self.encoder(src) * math.sqrt(self.ninp)\n",
        "        src = self.pos_encoder(src)\n",
        "        output = self.transformer_encoder(src, src_mask)\n",
        "        output = self.decoder(output)\n",
        "        return output\n",
        "\n",
        "class PositionalEncoding(nn.Module):\n",
        "    # the specific choice of (sin, cos) pair helps the model in learning patterns \n",
        "    # depend only on the relative position of the wordsrather than their absolute positions\n",
        "    # https://kazemnejad.com/blog/transformer_architecture_positional_encoding/\n",
        "    \n",
        "    def __init__(self, d_model, dropout=0.1, max_len=5000):\n",
        "        super(PositionalEncoding, self).__init__()\n",
        "        self.dropout = nn.Dropout(p=dropout)\n",
        "\n",
        "        pe = torch.zeros(max_len, d_model)  # d_model: encoding dimension, i.e. embedding size\n",
        "        position = torch.arange(0, max_len, dtype=torch.float).unsqueeze(1)\n",
        "        div_term = torch.exp(torch.arange(0, d_model, 2).float() * (-math.log(10000.0) / d_model))\n",
        "        pe[:, 0::2] = torch.sin(position * div_term)\n",
        "        pe[:, 1::2] = torch.cos(position * div_term)\n",
        "        pe = pe.unsqueeze(0).transpose(0, 1)\n",
        "        # register_buffer: store the param in state_dict but not in model.parameters() and thus not seen by optimizer\n",
        "        self.register_buffer('pe', pe)\n",
        "\n",
        "    def forward(self, x):\n",
        "        x = x + self.pe[:x.size(0), :]\n",
        "        return self.dropout(x)"
      ],
      "execution_count": 8,
      "outputs": []
    },
    {
      "cell_type": "code",
      "metadata": {
        "id": "dDTlw49XaKdd"
      },
      "source": [
        "def data_process(raw_text_iter):\n",
        "  data = [torch.tensor([vocab[token] for token in tokenizer(item)], dtype=torch.long) for item in raw_text_iter]\n",
        "  return torch.cat(tuple(filter(lambda t: t.numel() > 0, data)))\n",
        "\n",
        "train_data = data_process(iter(io.open(train_filepath, encoding=\"utf8\")))\n",
        "val_data = data_process(iter(io.open(valid_filepath, encoding=\"utf8\")))\n",
        "test_data = data_process(iter(io.open(test_filepath, encoding=\"utf8\")))"
      ],
      "execution_count": null,
      "outputs": []
    },
    {
      "cell_type": "code",
      "metadata": {
        "id": "206__eIefoMP"
      },
      "source": [
        "def batchify(data, bsz):\n",
        "    # Divide the dataset into bsz parts.\n",
        "    nbatch = data.size(0) // bsz\n",
        "    # Trim off any extra elements that wouldn't cleanly fit (remainders).\n",
        "    data = data.narrow(0, 0, nbatch * bsz)\n",
        "    # Evenly divide the data across the bsz batches.\n",
        "    data = data.view(bsz, -1).t().contiguous()\n",
        "    return data.to(device)\n",
        "\n",
        "batch_size = 20\n",
        "eval_batch_size = 10\n",
        "train_data = batchify(train_data, batch_size)\n",
        "val_data = batchify(val_data, eval_batch_size)\n",
        "test_data = batchify(test_data, eval_batch_size)"
      ],
      "execution_count": null,
      "outputs": []
    },
    {
      "cell_type": "code",
      "metadata": {
        "id": "DRAa8pw0foHM"
      },
      "source": [
        "from torch.utils.data import DataLoader"
      ],
      "execution_count": null,
      "outputs": []
    },
    {
      "cell_type": "code",
      "metadata": {
        "id": "dJXNgFmWfoDx"
      },
      "source": [
        "bptt = 35\n",
        "def get_batch(source, i):\n",
        "    seq_len = min(bptt, len(source) - 1 - i)\n",
        "    data = source[i:i+seq_len]\n",
        "    target = source[i+1:i+1+seq_len].reshape(-1)\n",
        "    return data, target"
      ],
      "execution_count": null,
      "outputs": []
    },
    {
      "cell_type": "code",
      "metadata": {
        "id": "9u5mhVeVeP_m"
      },
      "source": [
        "ntokens = len(vocab.stoi) # the size of vocabulary\n",
        "emsize = 200 # embedding dimension\n",
        "nhid = 200 # the dimension of the feedforward network model in nn.TransformerEncoder\n",
        "nlayers = 2 # the number of nn.TransformerEncoderLayer in nn.TransformerEncoder\n",
        "nhead = 2 # the number of heads in the multiheadattention models\n",
        "dropout = 0.2 # the dropout value\n",
        "model = TransformerModel(ntokens, emsize, nhead, nhid, nlayers, dropout).to(device)"
      ],
      "execution_count": null,
      "outputs": []
    },
    {
      "cell_type": "code",
      "metadata": {
        "id": "3WVYR1XveP8m"
      },
      "source": [
        "criterion = nn.CrossEntropyLoss()\n",
        "lr = 5.0 # learning rate\n",
        "optimizer = torch.optim.SGD(model.parameters(), lr=lr)\n",
        "scheduler = torch.optim.lr_scheduler.StepLR(optimizer, 1.0, gamma=0.95)"
      ],
      "execution_count": null,
      "outputs": []
    },
    {
      "cell_type": "code",
      "metadata": {
        "id": "ZWSrIKaieP5t"
      },
      "source": [
        "import time\n",
        "\n",
        "def train():\n",
        "    model.train() # Turn on the train mode\n",
        "    total_loss = 0.\n",
        "    start_time = time.time()\n",
        "    src_mask = model.generate_square_subsequent_mask(bptt).to(device)\n",
        "    for batch, i in enumerate(range(0, train_data.size(0) - 1, bptt)):\n",
        "        data, targets = get_batch(train_data, i)\n",
        "        optimizer.zero_grad()\n",
        "        if data.size(0) != bptt:\n",
        "            src_mask = model.generate_square_subsequent_mask(data.size(0)).to(device)\n",
        "        output = model(data, src_mask)\n",
        "        loss = criterion(output.view(-1, ntokens), targets)\n",
        "        loss.backward()\n",
        "        torch.nn.utils.clip_grad_norm_(model.parameters(), 0.5)\n",
        "        optimizer.step()\n",
        "\n",
        "        total_loss += loss.item()\n",
        "        log_interval = 200\n",
        "        if batch % log_interval == 0 and batch > 0:\n",
        "            cur_loss = total_loss / log_interval\n",
        "            elapsed = time.time() - start_time\n",
        "            print('| epoch {:3d} | {:5d}/{:5d} batches | '\n",
        "                  'lr {:02.2f} | ms/batch {:5.2f} | '\n",
        "                  'loss {:5.2f} | ppl {:8.2f}'.format(\n",
        "                    epoch, batch, len(train_data) // bptt, scheduler.get_lr()[0],\n",
        "                    elapsed * 1000 / log_interval,\n",
        "                    cur_loss, math.exp(cur_loss)))\n",
        "            total_loss = 0\n",
        "            start_time = time.time()\n",
        "\n",
        "def evaluate(eval_model, data_source):\n",
        "    eval_model.eval() # Turn on the evaluation mode\n",
        "    total_loss = 0.\n",
        "    src_mask = model.generate_square_subsequent_mask(bptt).to(device)\n",
        "    with torch.no_grad():\n",
        "        for i in range(0, data_source.size(0) - 1, bptt):\n",
        "            data, targets = get_batch(data_source, i)\n",
        "            if data.size(0) != bptt:\n",
        "                src_mask = model.generate_square_subsequent_mask(data.size(0)).to(device)\n",
        "            output = eval_model(data, src_mask)\n",
        "            output_flat = output.view(-1, ntokens)\n",
        "            total_loss += len(data) * criterion(output_flat, targets).item()\n",
        "    return total_loss / (len(data_source) - 1)\n",
        "\n",
        "def test(eval_model, data_source, top):\n",
        "    eval_model.eval() # Turn on the evaluation mode\n",
        "    src_mask = model.generate_square_subsequent_mask(bptt).to(device)\n",
        "    with torch.no_grad():\n",
        "        for i in range(0, data_source.size(0) - 1, bptt):\n",
        "            if i < top:\n",
        "                data, targets = get_batch(data_source, i)\n",
        "                print(i, '\\t', data, '\\t', targets)\n",
        "                if data.size(0) != bptt:\n",
        "                    src_mask = model.generate_square_subsequent_mask(data.size(0)).to(device)\n",
        "                output = eval_model(data, src_mask)\n",
        "                print(output)\n",
        "                # output_flat = output.view(-1, ntokens)"
      ],
      "execution_count": null,
      "outputs": []
    },
    {
      "cell_type": "code",
      "metadata": {
        "id": "wgYtwS3_A91B",
        "colab": {
          "base_uri": "https://localhost:8080/"
        },
        "outputId": "f5e76c86-c762-4503-f341-521f1dc8a302"
      },
      "source": [
        "best_val_loss = float(\"inf\")\n",
        "epochs = 3 # The number of epochs\n",
        "best_model = None\n",
        "\n",
        "for epoch in range(1, epochs + 1):\n",
        "    epoch_start_time = time.time()\n",
        "    train()\n",
        "    val_loss = evaluate(model, val_data)\n",
        "    print('-' * 89)\n",
        "    print('| end of epoch {:3d} | time: {:5.2f}s | valid loss {:5.2f} | '\n",
        "          'valid ppl {:8.2f}'.format(epoch, (time.time() - epoch_start_time),\n",
        "                                     val_loss, math.exp(val_loss)))\n",
        "    print('-' * 89)\n",
        "\n",
        "    if val_loss < best_val_loss:\n",
        "        best_val_loss = val_loss\n",
        "        best_model = model\n",
        "\n",
        "    scheduler.step()"
      ],
      "execution_count": null,
      "outputs": [
        {
          "output_type": "stream",
          "text": [
            "/usr/local/lib/python3.6/dist-packages/torch/optim/lr_scheduler.py:351: UserWarning: To get the last learning rate computed by the scheduler, please use `get_last_lr()`.\n",
            "  \"please use `get_last_lr()`.\", UserWarning)\n"
          ],
          "name": "stderr"
        },
        {
          "output_type": "stream",
          "text": [
            "| epoch   1 |   200/ 2928 batches | lr 5.00 | ms/batch 16.39 | loss  8.21 | ppl  3694.39\n",
            "| epoch   1 |   400/ 2928 batches | lr 5.00 | ms/batch 16.08 | loss  6.90 | ppl   991.90\n",
            "| epoch   1 |   600/ 2928 batches | lr 5.00 | ms/batch 16.11 | loss  6.45 | ppl   632.64\n",
            "| epoch   1 |   800/ 2928 batches | lr 5.00 | ms/batch 16.12 | loss  6.29 | ppl   538.92\n",
            "| epoch   1 |  1000/ 2928 batches | lr 5.00 | ms/batch 16.12 | loss  6.18 | ppl   483.74\n",
            "| epoch   1 |  1200/ 2928 batches | lr 5.00 | ms/batch 16.16 | loss  6.17 | ppl   476.25\n",
            "| epoch   1 |  1400/ 2928 batches | lr 5.00 | ms/batch 16.19 | loss  6.11 | ppl   451.63\n",
            "| epoch   1 |  1600/ 2928 batches | lr 5.00 | ms/batch 16.27 | loss  6.11 | ppl   450.30\n",
            "| epoch   1 |  1800/ 2928 batches | lr 5.00 | ms/batch 16.27 | loss  6.03 | ppl   414.91\n",
            "| epoch   1 |  2000/ 2928 batches | lr 5.00 | ms/batch 16.26 | loss  6.02 | ppl   410.68\n",
            "| epoch   1 |  2200/ 2928 batches | lr 5.00 | ms/batch 16.32 | loss  5.90 | ppl   366.60\n",
            "| epoch   1 |  2400/ 2928 batches | lr 5.00 | ms/batch 16.33 | loss  5.97 | ppl   393.16\n",
            "| epoch   1 |  2600/ 2928 batches | lr 5.00 | ms/batch 16.36 | loss  5.96 | ppl   386.43\n",
            "| epoch   1 |  2800/ 2928 batches | lr 5.00 | ms/batch 16.35 | loss  5.88 | ppl   356.36\n",
            "-----------------------------------------------------------------------------------------\n",
            "| end of epoch   1 | time: 50.00s | valid loss  5.76 | valid ppl   318.25\n",
            "-----------------------------------------------------------------------------------------\n",
            "| epoch   2 |   200/ 2928 batches | lr 4.51 | ms/batch 16.52 | loss  5.86 | ppl   352.44\n",
            "| epoch   2 |   400/ 2928 batches | lr 4.51 | ms/batch 16.45 | loss  5.85 | ppl   348.07\n",
            "| epoch   2 |   600/ 2928 batches | lr 4.51 | ms/batch 16.52 | loss  5.67 | ppl   289.48\n",
            "| epoch   2 |   800/ 2928 batches | lr 4.51 | ms/batch 16.55 | loss  5.71 | ppl   300.59\n",
            "| epoch   2 |  1000/ 2928 batches | lr 4.51 | ms/batch 16.63 | loss  5.65 | ppl   284.81\n",
            "| epoch   2 |  1200/ 2928 batches | lr 4.51 | ms/batch 16.64 | loss  5.69 | ppl   295.52\n",
            "| epoch   2 |  1400/ 2928 batches | lr 4.51 | ms/batch 16.61 | loss  5.69 | ppl   296.56\n",
            "| epoch   2 |  1600/ 2928 batches | lr 4.51 | ms/batch 16.63 | loss  5.71 | ppl   302.05\n",
            "| epoch   2 |  1800/ 2928 batches | lr 4.51 | ms/batch 16.67 | loss  5.65 | ppl   283.29\n",
            "| epoch   2 |  2000/ 2928 batches | lr 4.51 | ms/batch 16.74 | loss  5.67 | ppl   290.34\n",
            "| epoch   2 |  2200/ 2928 batches | lr 4.51 | ms/batch 16.77 | loss  5.55 | ppl   257.16\n",
            "| epoch   2 |  2400/ 2928 batches | lr 4.51 | ms/batch 16.78 | loss  5.65 | ppl   283.08\n",
            "| epoch   2 |  2600/ 2928 batches | lr 4.51 | ms/batch 16.85 | loss  5.66 | ppl   286.50\n",
            "| epoch   2 |  2800/ 2928 batches | lr 4.51 | ms/batch 16.81 | loss  5.59 | ppl   266.48\n",
            "-----------------------------------------------------------------------------------------\n",
            "| end of epoch   2 | time: 51.24s | valid loss  5.71 | valid ppl   303.34\n",
            "-----------------------------------------------------------------------------------------\n",
            "| epoch   3 |   200/ 2928 batches | lr 4.29 | ms/batch 16.96 | loss  5.61 | ppl   274.20\n",
            "| epoch   3 |   400/ 2928 batches | lr 4.29 | ms/batch 16.89 | loss  5.63 | ppl   277.67\n",
            "| epoch   3 |   600/ 2928 batches | lr 4.29 | ms/batch 16.93 | loss  5.43 | ppl   227.68\n",
            "| epoch   3 |   800/ 2928 batches | lr 4.29 | ms/batch 16.93 | loss  5.50 | ppl   243.84\n",
            "| epoch   3 |  1000/ 2928 batches | lr 4.29 | ms/batch 16.98 | loss  5.44 | ppl   229.66\n",
            "| epoch   3 |  1200/ 2928 batches | lr 4.29 | ms/batch 16.96 | loss  5.49 | ppl   241.62\n",
            "| epoch   3 |  1400/ 2928 batches | lr 4.29 | ms/batch 16.97 | loss  5.50 | ppl   244.51\n",
            "| epoch   3 |  1600/ 2928 batches | lr 4.29 | ms/batch 17.00 | loss  5.53 | ppl   252.04\n",
            "| epoch   3 |  1800/ 2928 batches | lr 4.29 | ms/batch 16.97 | loss  5.47 | ppl   238.14\n",
            "| epoch   3 |  2000/ 2928 batches | lr 4.29 | ms/batch 17.01 | loss  5.49 | ppl   241.92\n",
            "| epoch   3 |  2200/ 2928 batches | lr 4.29 | ms/batch 16.97 | loss  5.36 | ppl   212.13\n",
            "| epoch   3 |  2400/ 2928 batches | lr 4.29 | ms/batch 17.00 | loss  5.46 | ppl   235.15\n",
            "| epoch   3 |  2600/ 2928 batches | lr 4.29 | ms/batch 17.00 | loss  5.47 | ppl   237.71\n",
            "| epoch   3 |  2800/ 2928 batches | lr 4.29 | ms/batch 16.94 | loss  5.41 | ppl   223.25\n",
            "-----------------------------------------------------------------------------------------\n",
            "| end of epoch   3 | time: 52.11s | valid loss  5.57 | valid ppl   261.41\n",
            "-----------------------------------------------------------------------------------------\n"
          ],
          "name": "stdout"
        }
      ]
    },
    {
      "cell_type": "code",
      "metadata": {
        "colab": {
          "base_uri": "https://localhost:8080/"
        },
        "id": "jOcV2uNAjCVH",
        "outputId": "51fd9324-8f7e-4861-9435-989261766e89"
      },
      "source": [
        "test_loss = evaluate(best_model, test_data)\n",
        "print('=' * 89)\n",
        "print('| End of training | test loss {:5.2f} | test ppl {:8.2f}'.format(\n",
        "    test_loss, math.exp(test_loss)))\n",
        "print('=' * 89)"
      ],
      "execution_count": null,
      "outputs": [
        {
          "output_type": "stream",
          "text": [
            "=========================================================================================\n",
            "| End of training | test loss  5.48 | test ppl   239.52\n",
            "=========================================================================================\n"
          ],
          "name": "stdout"
        }
      ]
    },
    {
      "cell_type": "code",
      "metadata": {
        "id": "rB3d5B3xkmOY"
      },
      "source": [
        ""
      ],
      "execution_count": null,
      "outputs": []
    }
  ]
}